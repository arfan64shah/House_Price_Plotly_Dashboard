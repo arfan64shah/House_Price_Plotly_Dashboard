{
 "cells": [
  {
   "cell_type": "code",
   "execution_count": 15,
   "id": "e7a7b9c9-6129-4f56-9b40-ec8aa656bc64",
   "metadata": {},
   "outputs": [],
   "source": [
    "# import necessary libraries\n",
    "import dash\n",
    "from jupyter_dash import JupyterDash\n",
    "from dash import dcc\n",
    "import dash_html_components as html"
   ]
  },
  {
   "cell_type": "code",
   "execution_count": 19,
   "id": "182132ae-4c15-44cb-b4d8-563d1d677396",
   "metadata": {},
   "outputs": [],
   "source": [
    "# initiate app\n",
    "app = dash.Dash(__name__)"
   ]
  },
  {
   "cell_type": "code",
   "execution_count": 20,
   "id": "823c69d2-d31d-4f5e-8e39-80103dee4515",
   "metadata": {},
   "outputs": [],
   "source": [
    "# define layout\n",
    "app.layout = html.Div([\n",
    "    html.H1(\"Dushanbe House Price Analysis\"),\n",
    "    html.Div(\"Dashboard contains Price Analysis for Houses in Dushanbe\")\n",
    "])"
   ]
  },
  {
   "cell_type": "code",
   "execution_count": 23,
   "id": "bebcb304-1713-4845-8c2e-4279dfce3a1d",
   "metadata": {},
   "outputs": [
    {
     "data": {
      "text/html": [
       "\n",
       "        <iframe\n",
       "            width=\"100%\"\n",
       "            height=\"650\"\n",
       "            src=\"http://127.0.0.1:8050/\"\n",
       "            frameborder=\"0\"\n",
       "            allowfullscreen\n",
       "            \n",
       "        ></iframe>\n",
       "        "
      ],
      "text/plain": [
       "<IPython.lib.display.IFrame at 0x28d83ca6090>"
      ]
     },
     "metadata": {},
     "output_type": "display_data"
    }
   ],
   "source": [
    "# run app\n",
    "if __name__ == '__main__':\n",
    "    app.run_server(mode = 'inline')"
   ]
  },
  {
   "cell_type": "code",
   "execution_count": 1,
   "id": "36a68998-2440-4490-9833-58e9288cb4af",
   "metadata": {},
   "outputs": [
    {
     "data": {
      "text/html": [
       "<div>\n",
       "<style scoped>\n",
       "    .dataframe tbody tr th:only-of-type {\n",
       "        vertical-align: middle;\n",
       "    }\n",
       "\n",
       "    .dataframe tbody tr th {\n",
       "        vertical-align: top;\n",
       "    }\n",
       "\n",
       "    .dataframe thead th {\n",
       "        text-align: right;\n",
       "    }\n",
       "</style>\n",
       "<table border=\"1\" class=\"dataframe\">\n",
       "  <thead>\n",
       "    <tr style=\"text-align: right;\">\n",
       "      <th></th>\n",
       "      <th>number_of_rooms</th>\n",
       "      <th>floor</th>\n",
       "      <th>area</th>\n",
       "      <th>price</th>\n",
       "    </tr>\n",
       "  </thead>\n",
       "  <tbody>\n",
       "    <tr>\n",
       "      <th>0</th>\n",
       "      <td>1</td>\n",
       "      <td>1</td>\n",
       "      <td>58.0</td>\n",
       "      <td>330000</td>\n",
       "    </tr>\n",
       "    <tr>\n",
       "      <th>1</th>\n",
       "      <td>1</td>\n",
       "      <td>14</td>\n",
       "      <td>68.0</td>\n",
       "      <td>340000</td>\n",
       "    </tr>\n",
       "    <tr>\n",
       "      <th>2</th>\n",
       "      <td>3</td>\n",
       "      <td>8</td>\n",
       "      <td>50.0</td>\n",
       "      <td>700000</td>\n",
       "    </tr>\n",
       "    <tr>\n",
       "      <th>3</th>\n",
       "      <td>3</td>\n",
       "      <td>14</td>\n",
       "      <td>84.0</td>\n",
       "      <td>700000</td>\n",
       "    </tr>\n",
       "    <tr>\n",
       "      <th>4</th>\n",
       "      <td>3</td>\n",
       "      <td>3</td>\n",
       "      <td>83.0</td>\n",
       "      <td>415000</td>\n",
       "    </tr>\n",
       "  </tbody>\n",
       "</table>\n",
       "</div>"
      ],
      "text/plain": [
       "   number_of_rooms  floor  area   price\n",
       "0                1      1  58.0  330000\n",
       "1                1     14  68.0  340000\n",
       "2                3      8  50.0  700000\n",
       "3                3     14  84.0  700000\n",
       "4                3      3  83.0  415000"
      ]
     },
     "execution_count": 1,
     "metadata": {},
     "output_type": "execute_result"
    }
   ],
   "source": [
    "# read dataset\n",
    "import pandas as pd\n",
    "dataset = pd.read_csv('dataset.csv')\n",
    "dataset.head()"
   ]
  },
  {
   "cell_type": "code",
   "execution_count": 4,
   "id": "a788ed00-2b58-4d8f-ab51-927649d59eff",
   "metadata": {},
   "outputs": [
    {
     "data": {
      "text/plain": [
       "Index([2, 3, 1, 4, 6, 5], dtype='int64', name='number_of_rooms')"
      ]
     },
     "execution_count": 4,
     "metadata": {},
     "output_type": "execute_result"
    }
   ],
   "source": [
    "# find index of number of rooms column\n",
    "dataset['number_of_rooms'].value_counts().index"
   ]
  },
  {
   "cell_type": "code",
   "execution_count": 9,
   "id": "5b614dbb-4d84-44c4-93f1-4b28fc3d2080",
   "metadata": {},
   "outputs": [
    {
     "data": {
      "text/plain": [
       "number_of_rooms\n",
       "2    2091\n",
       "3    1445\n",
       "1    1119\n",
       "4     505\n",
       "6     210\n",
       "5     209\n",
       "Name: count, dtype: int64"
      ]
     },
     "execution_count": 9,
     "metadata": {},
     "output_type": "execute_result"
    }
   ],
   "source": [
    "dataset['number_of_rooms'].value_counts()"
   ]
  },
  {
   "cell_type": "code",
   "execution_count": null,
   "id": "138ee912-973d-449e-bf24-55ec138e5662",
   "metadata": {},
   "outputs": [],
   "source": []
  }
 ],
 "metadata": {
  "kernelspec": {
   "display_name": "Python 3 (ipykernel)",
   "language": "python",
   "name": "python3"
  },
  "language_info": {
   "codemirror_mode": {
    "name": "ipython",
    "version": 3
   },
   "file_extension": ".py",
   "mimetype": "text/x-python",
   "name": "python",
   "nbconvert_exporter": "python",
   "pygments_lexer": "ipython3",
   "version": "3.11.4"
  }
 },
 "nbformat": 4,
 "nbformat_minor": 5
}
