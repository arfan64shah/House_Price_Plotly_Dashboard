{
 "cells": [
  {
   "cell_type": "code",
   "execution_count": 15,
   "id": "e7a7b9c9-6129-4f56-9b40-ec8aa656bc64",
   "metadata": {},
   "outputs": [],
   "source": [
    "# import necessary libraries\n",
    "import dash\n",
    "from jupyter_dash import JupyterDash\n",
    "from dash import dcc\n",
    "import dash_html_components as html"
   ]
  },
  {
   "cell_type": "code",
   "execution_count": 19,
   "id": "182132ae-4c15-44cb-b4d8-563d1d677396",
   "metadata": {},
   "outputs": [],
   "source": [
    "# initiate app\n",
    "app = dash.Dash(__name__)"
   ]
  },
  {
   "cell_type": "code",
   "execution_count": 20,
   "id": "823c69d2-d31d-4f5e-8e39-80103dee4515",
   "metadata": {},
   "outputs": [],
   "source": [
    "# define layout\n",
    "app.layout = html.Div([\n",
    "    html.H1(\"Dushanbe House Price Analysis\"),\n",
    "    html.Div(\"Dashboard contains Price Analysis for Houses in Dushanbe\")\n",
    "])"
   ]
  },
  {
   "cell_type": "code",
   "execution_count": 23,
   "id": "bebcb304-1713-4845-8c2e-4279dfce3a1d",
   "metadata": {},
   "outputs": [
    {
     "data": {
      "text/html": [
       "\n",
       "        <iframe\n",
       "            width=\"100%\"\n",
       "            height=\"650\"\n",
       "            src=\"http://127.0.0.1:8050/\"\n",
       "            frameborder=\"0\"\n",
       "            allowfullscreen\n",
       "            \n",
       "        ></iframe>\n",
       "        "
      ],
      "text/plain": [
       "<IPython.lib.display.IFrame at 0x28d83ca6090>"
      ]
     },
     "metadata": {},
     "output_type": "display_data"
    }
   ],
   "source": [
    "# run app\n",
    "if __name__ == '__main__':\n",
    "    app.run_server(mode = 'inline')"
   ]
  },
  {
   "cell_type": "code",
   "execution_count": null,
   "id": "36a68998-2440-4490-9833-58e9288cb4af",
   "metadata": {},
   "outputs": [],
   "source": []
  }
 ],
 "metadata": {
  "kernelspec": {
   "display_name": "Python 3 (ipykernel)",
   "language": "python",
   "name": "python3"
  },
  "language_info": {
   "codemirror_mode": {
    "name": "ipython",
    "version": 3
   },
   "file_extension": ".py",
   "mimetype": "text/x-python",
   "name": "python",
   "nbconvert_exporter": "python",
   "pygments_lexer": "ipython3",
   "version": "3.11.4"
  }
 },
 "nbformat": 4,
 "nbformat_minor": 5
}
